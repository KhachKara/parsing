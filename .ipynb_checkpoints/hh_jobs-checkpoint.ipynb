{
 "cells": [
  {
   "cell_type": "markdown",
   "metadata": {
    "id": "BA3sGFgZkvDr"
   },
   "source": [
    "## code"
   ]
  },
  {
   "cell_type": "code",
   "execution_count": null,
   "metadata": {
    "id": "EZb20q9nTZYi"
   },
   "outputs": [],
   "source": [
    "import requests\n",
    "import json\n",
    "import time\n",
    "import csv"
   ]
  },
  {
   "cell_type": "code",
   "execution_count": null,
   "metadata": {
    "id": "vrqjZrqsTcTA"
   },
   "outputs": [],
   "source": [
    "def get_page(area='Москва', page = 0):\n",
    "    '''\n",
    "    Создаем метод  для получения страницы со списком вакансий.\n",
    "    Аргументы: \n",
    "        page - индекс страницы, начинается с 0. \n",
    "        Значение по умолчанию 0, то есть первая страница\n",
    "    '''\n",
    "\n",
    "    # Справочник для параметров GET - запроса\n",
    "    params = {\n",
    "        'text': 'Стажер', # Текст фильтра. В имени должно быть искомая вакансия\n",
    "#         'area': area, # Поиск осуществляется по вакансисям города Москва\n",
    "#         'page': page, # Индекс страницы поиск на HH\n",
    "#         'per_page': 1000 # кол-во вкансий на 1 странице  \n",
    "    } \n",
    "\n",
    "    req = requests.get('https://api.hh.ru/vacancies', params)  # Посылаем запрос к API\n",
    "    data = req.content.decode()  \n",
    "#     print(data)\n",
    "    req.close()\n",
    "    return data"
   ]
  },
  {
   "cell_type": "code",
   "execution_count": null,
   "metadata": {
    "id": "Mvtc6lgNBP3J"
   },
   "outputs": [],
   "source": [
    "def save_to_file(item):\n",
    "    js_objs = []\n",
    "    with open(f\"{item['name'].replace(' ', '_')}.csv\", 'w', newline='', encoding='utf-8') as csvfile:\n",
    "        writer = csv.DictWriter(csvfile, fieldnames=fieldnames)\n",
    "        writer.writeheader()\n",
    "        for page in range(0, 20):\n",
    "            js_obj = json.loads(get_page(item['id'], page))\n",
    "            try:\n",
    "                js_objs.extend(js_obj['items'])\n",
    "\n",
    "                for i in js_obj['items']: \n",
    "                    writer.writerow(i)\n",
    "                time.sleep(0.25)\n",
    "            except:\n",
    "                pass"
   ]
  },
  {
   "cell_type": "code",
   "execution_count": null,
   "metadata": {
    "id": "5i95zPS6wtZ8"
   },
   "outputs": [],
   "source": [
    "areas = requests.get('https://api.hh.ru/areas').json()\n",
    "countries = regions = cities = []"
   ]
  },
  {
   "cell_type": "code",
   "execution_count": null,
   "metadata": {
    "id": "AaAkKiT6w5dN"
   },
   "outputs": [],
   "source": [
    "fieldnames = ['id', 'premium', 'name', 'department', 'has_test', 'response_letter_required', 'area', 'salary', 'type', 'address', 'response_url', \n",
    "            'sort_point_distance', 'published_at', 'created_at', 'archived', 'apply_alternate_url', 'insider_interview', 'url', 'adv_response_url',\n",
    "            'alternate_url', 'relations', 'employer', 'name', 'url', 'alternate_url', 'logo_urls', '90', '240', 'vacancies_url', 'trusted',\n",
    "            'snippet', 'responsibility', 'contacts', 'schedule', 'working_days', 'working_time_intervals', 'working_time_modes', 'accept_temporary'\n",
    "            ]\n",
    "\n",
    "for country in areas:\n",
    "    countries.append([country['name'], country['id']])\n",
    "    for region in country['areas']:\n",
    "        regions.append(region['name'])\n",
    "        if country['name'] == 'Другие регионы':\n",
    "            save_to_file(region)\n",
    "        for city in region['areas']:\n",
    "            cities.append(city['name'])\n",
    "            if len(city['id']) <= 3:\n",
    "                save_to_file(city)\n"
   ]
  },
  {
   "cell_type": "code",
   "execution_count": null,
   "metadata": {},
   "outputs": [],
   "source": []
  },
  {
   "cell_type": "code",
   "execution_count": null,
   "metadata": {},
   "outputs": [],
   "source": []
  },
  {
   "cell_type": "code",
   "execution_count": null,
   "metadata": {},
   "outputs": [],
   "source": []
  }
 ],
 "metadata": {
  "colab": {
   "collapsed_sections": [],
   "provenance": []
  },
  "kernelspec": {
   "display_name": "Python 3 (ipykernel)",
   "language": "python",
   "name": "python3"
  },
  "language_info": {
   "codemirror_mode": {
    "name": "ipython",
    "version": 3
   },
   "file_extension": ".py",
   "mimetype": "text/x-python",
   "name": "python",
   "nbconvert_exporter": "python",
   "pygments_lexer": "ipython3",
   "version": "3.11.4"
  }
 },
 "nbformat": 4,
 "nbformat_minor": 1
}
